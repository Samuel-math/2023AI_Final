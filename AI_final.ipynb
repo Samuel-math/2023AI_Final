{
 "cells": [
  {
   "cell_type": "code",
   "execution_count": 139,
   "id": "b33d8d89",
   "metadata": {},
   "outputs": [],
   "source": [
    "import torch\n",
    "import torch.nn as nn\n",
    "import torch.optim as optim\n",
    "import torchvision\n",
    "import torchvision.transforms as transforms\n",
    "from torch.utils.data import DataLoader,Subset\n",
    "from torchvision.datasets import CIFAR10\n",
    "from vit_pytorch import ViT, SimpleViT\n",
    "import numpy as np\n",
    "import matplotlib\n",
    "import matplotlib.pyplot as plt\n",
    "import time"
   ]
  },
  {
   "cell_type": "markdown",
   "id": "c2cc0d1e",
   "metadata": {},
   "source": [
    "## 首先读入CIFAR10数据"
   ]
  },
  {
   "cell_type": "code",
   "execution_count": 125,
   "id": "07009f0a",
   "metadata": {},
   "outputs": [
    {
     "name": "stdout",
     "output_type": "stream",
     "text": [
      "Files already downloaded and verified\n",
      "Files already downloaded and verified\n"
     ]
    }
   ],
   "source": [
    "transform = transforms.Compose([\n",
    "    transforms.ToTensor(),\n",
    "])\n",
    "\n",
    "# 导入数据集\n",
    "train_dataset = CIFAR10(root='./data', train=True, download=True, transform=transform)\n",
    "test_dataset = CIFAR10(root='./data', train=False, download=True, transform=transform)\n",
    "\n",
    "# 对数据集进行处理\n",
    "train_loader = DataLoader(train_dataset, batch_size=64, shuffle=True, num_workers=2)\n",
    "test_loader = DataLoader(test_dataset, batch_size=64, shuffle=False, num_workers=2)"
   ]
  },
  {
   "cell_type": "markdown",
   "id": "0ce112be",
   "metadata": {},
   "source": [
    "## 接下来我们定义不同的模型"
   ]
  },
  {
   "cell_type": "code",
   "execution_count": 126,
   "id": "e06d1c81",
   "metadata": {},
   "outputs": [],
   "source": [
    "class ViTModel(nn.Module):\n",
    "    # 定义一个ViT的模型\n",
    "    def __init__(self, image_size, patch_size, num_classes, dim, depth, heads, mlp_dim, dropout):\n",
    "        super(ViTModel, self).__init__()\n",
    "        self.vit = ViT(image_size=image_size,\n",
    "            patch_size=patch_size,\n",
    "            num_classes=num_classes,\n",
    "            dim=dim,\n",
    "            depth=depth,\n",
    "            heads=heads,\n",
    "            mlp_dim=mlp_dim,\n",
    "            dropout=dropout\n",
    "        )\n",
    "\n",
    "    def forward(self, x):\n",
    "        return self.vit(x)\n",
    "    \n",
    "class SimpleViTModel(nn.Module):\n",
    "    # 定义一个SimpleViT的模型\n",
    "    def __init__(self, image_size, patch_size, num_classes, dim, depth, heads, mlp_dim):\n",
    "        super(SimpleViTModel, self).__init__()\n",
    "        self.simple_vit = SimpleViT(image_size=image_size,\n",
    "            patch_size=patch_size,\n",
    "            num_classes=num_classes,\n",
    "            dim=dim,\n",
    "            depth=depth,\n",
    "            heads=heads,\n",
    "            mlp_dim=mlp_dim,\n",
    "        )\n",
    "\n",
    "    def forward(self, x):\n",
    "        return self.simple_vit(x)\n",
    "\n",
    "class CNNModel(nn.Module):\n",
    "    # 定义一个两层卷积网络的模型\n",
    "    def __init__(self, input_channels, hidden_channels, num_classes):\n",
    "        super().__init__()\n",
    "        self.conv_and_pooled1 = nn.Sequential(\n",
    "                        nn.Conv2d(in_channels=input_channels, out_channels=hidden_channels, kernel_size=2),\n",
    "                        nn.MaxPool2d(2,2))\n",
    "        self.conv_and_pooled2 = nn.Sequential(\n",
    "                        nn.Conv2d(in_channels=hidden_channels, out_channels=hidden_channels, kernel_size=2),\n",
    "                        nn.MaxPool2d(2,2))\n",
    "        self.linear = nn.Linear(7*7*hidden_channels, num_classes)\n",
    "        self.flatten = nn.Flatten()\n",
    "    \n",
    "    def forward(self, x):\n",
    "        conv1_x = self.conv_and_pooled1(x)\n",
    "        conv2_x = self.conv_and_pooled2(conv1_x)\n",
    "        flatten_x = self.flatten(conv2_x)\n",
    "        forward_x = self.linear(flatten_x)\n",
    "        return forward_x"
   ]
  },
  {
   "cell_type": "markdown",
   "id": "b34f5bb2",
   "metadata": {},
   "source": [
    "## 接下来我们定义一个类，来对不同模型进行评估"
   ]
  },
  {
   "cell_type": "code",
   "execution_count": 127,
   "id": "cd6a9780",
   "metadata": {},
   "outputs": [],
   "source": [
    "class ValAccurency:\n",
    "    def __init__(self, n_train, model_type):\n",
    "        # 使用模型中的前n_train个数据对模型进行训练\n",
    "        if model_type == 'ViT':\n",
    "            # 对于ViT模型进行评价\n",
    "            self.model = ViTModel(image_size=32, patch_size=4, num_classes=10, \\\n",
    "                             dim=128, depth=2, heads=8, mlp_dim=512, dropout=0.1)\n",
    "        elif model_type == 'SimpleViT':\n",
    "            # 对于SimpleViT模型进行评价\n",
    "            self.model = SimpleViTModel(image_size=32, patch_size=4, num_classes=10, \\\n",
    "                             dim=128, depth=2, heads=8, mlp_dim=512)\n",
    "        elif model_type == 'CNN':\n",
    "            # 对于CNN模型进行评价\n",
    "            self.model = CNNModel(input_channels=3, hidden_channels=10, num_classes=10)\n",
    "        elif model_type == 'ResNet':\n",
    "            # 对于ResNet18模型进行评价\n",
    "            self.model = torchvision.models.resnet18(pretrained=False)\n",
    "            \n",
    "        self.time = 0 # 创建变量来记录训练所需的时间\n",
    "        subset_indices = range(n_train)\n",
    "        data_to_train = Subset(train_dataset, subset_indices)\n",
    "        \n",
    "        self.train_loader = DataLoader(data_to_train, batch_size=64, shuffle=False, num_workers=2)\n",
    "        device = torch.device(\"mps\")# 使用 mps来进行运算的加速\n",
    "        self.model.to(device)\n",
    "        \n",
    "    def __train__(self):\n",
    "        # 完成在对应数据集下的模型的训练\n",
    "        criterion = nn.CrossEntropyLoss()\n",
    "        optimizer = optim.Adam(self.model.parameters(), lr=0.001)\n",
    "        \n",
    "        self.model.train()\n",
    "        time_begin = time.time()\n",
    "        num_epochs = 10\n",
    "        for epoch in range(num_epochs):\n",
    "            for images, labels in self.train_loader:\n",
    "                images, labels = images.to(device), labels.to(device)\n",
    "\n",
    "                optimizer.zero_grad()\n",
    "                outputs = self.model(images)\n",
    "                loss = criterion(outputs, labels)\n",
    "                loss.backward()\n",
    "                optimizer.step()\n",
    "        \n",
    "        # 对于每个模型训练完成后进行播报\n",
    "        print('train finished for one num_data')\n",
    "        time_end = time.time()\n",
    "        self.time = time_end - time_begin\n",
    "        \n",
    "    def __time__(self):\n",
    "        # 返回训练时所耗费的时间\n",
    "        with torch.no_grad():\n",
    "            if self.time == 0:\n",
    "                print('还未训练！！！')\n",
    "            else:\n",
    "                return self.time\n",
    "        \n",
    "    def __eval__(self):\n",
    "        # 完成对应模型在对应训练集上的评估\n",
    "        self.model.eval()\n",
    "        correct = 0\n",
    "        total = 0\n",
    "\n",
    "        with torch.no_grad():\n",
    "            for images, labels in test_loader:\n",
    "                images, labels = images.to(device), labels.to(device)\n",
    "                outputs = self.model(images)\n",
    "                _, predicted = torch.max(outputs, 1)\n",
    "                total += labels.size(0)\n",
    "                correct += (predicted == labels).sum().item()\n",
    "\n",
    "        accuracy = correct / total\n",
    "        return accuracy"
   ]
  },
  {
   "cell_type": "markdown",
   "id": "d59b862d",
   "metadata": {},
   "source": [
    "## 下面可以再定义一个函数直接来返回不同模型的运行时间与对应的准确率"
   ]
  },
  {
   "cell_type": "code",
   "execution_count": 128,
   "id": "7be860f3",
   "metadata": {},
   "outputs": [],
   "source": [
    "def train_time_acc(model_type):\n",
    "    # 返回给定模型下不同训练集大小模型在测试集上的准确率\n",
    "    # 返回的五个结果分别对应训练集的大小为10000，20000，30000，40000，50000\n",
    "    time, acc = [], []\n",
    "    for i in range(1,6):\n",
    "        num_data = i * 10000\n",
    "        ValModel = ValAccurency(num_data, model_type)\n",
    "        ValModel.__train__()\n",
    "        time.append(ValModel.__time__())\n",
    "        acc.append(ValModel.__eval__())\n",
    "    return time, acc"
   ]
  },
  {
   "cell_type": "markdown",
   "id": "c8e5898e",
   "metadata": {},
   "source": [
    "## 获得不同模型不同大小数据集下运行时间与对应的准确率"
   ]
  },
  {
   "cell_type": "code",
   "execution_count": 130,
   "id": "bc88a6dc",
   "metadata": {},
   "outputs": [
    {
     "name": "stdout",
     "output_type": "stream",
     "text": [
      "train finished for one num_data\n",
      "train finished for one num_data\n",
      "train finished for one num_data\n",
      "train finished for one num_data\n",
      "train finished for one num_data\n",
      "train finished for one num_data\n",
      "train finished for one num_data\n",
      "train finished for one num_data\n",
      "train finished for one num_data\n",
      "train finished for one num_data\n",
      "train finished for one num_data\n",
      "train finished for one num_data\n",
      "train finished for one num_data\n",
      "train finished for one num_data\n",
      "train finished for one num_data\n"
     ]
    }
   ],
   "source": [
    "time_CNN, acc_CNN = train_time_acc('CNN')\n",
    "time_ViT, acc_ViT = train_time_acc('ViT')\n",
    "time_SViT, acc_SViT = train_time_acc('SimpleViT')"
   ]
  },
  {
   "cell_type": "code",
   "execution_count": 132,
   "id": "a1bc0058",
   "metadata": {},
   "outputs": [
    {
     "name": "stdout",
     "output_type": "stream",
     "text": [
      "train finished for one num_data\n",
      "train finished for one num_data\n",
      "train finished for one num_data\n",
      "train finished for one num_data\n",
      "train finished for one num_data\n"
     ]
    }
   ],
   "source": [
    "time_ResNet, acc_ResNet = train_time_acc('ResNet')"
   ]
  },
  {
   "cell_type": "markdown",
   "id": "dc2e7b3d",
   "metadata": {},
   "source": [
    "## 接下来我们将结果可视化"
   ]
  },
  {
   "cell_type": "code",
   "execution_count": 149,
   "id": "7fec61ea",
   "metadata": {},
   "outputs": [
    {
     "data": {
      "image/png": "[encoded data removed]",
      "text/plain": [
       "<Figure size 640x480 with 1 Axes>"
      ]
     },
     "metadata": {},
     "output_type": "display_data"
    }
   ],
   "source": [
    "fig, ax = plt.subplots()\n",
    "x = np.linspace(10000,50000,5)\n",
    "ax.plot(x, acc_ViT, label='ViT') \n",
    "ax.plot(x, acc_SViT, label='SimpleViT')\n",
    "ax.plot(x, acc_CNN, label='CNN')\n",
    "ax.plot(x, acc_ResNet, label='ResNet')\n",
    "\n",
    "ax.set_xlabel('The number of data in train dataset') \n",
    "ax.set_ylabel('Acurrency in different models') \n",
    "ax.legend() #自动检测要在图例中显示的元素，并且显示\n",
    "plt.savefig('AIfinal.png')\n",
    "plt.show()"
   ]
  },
  {
   "cell_type": "code",
   "execution_count": 150,
   "id": "644255fa",
   "metadata": {},
   "outputs": [
    {
     "name": "stdout",
     "output_type": "stream",
     "text": [
      "训练CNN使用的时间 [150.61633706092834, 160.59931015968323, 166.59584999084473, 174.7579689025879, 184.16234707832336]\n",
      "训练ViT使用的时间 [193.57423210144043, 243.75465989112854, 297.88932514190674, 774.3853876590729, 1189.0868427753448]\n",
      "训练ResNet使用的时间 [215.37599396705627, 295.2139570713043, 351.5060930252075, 348.9210612773895, 406.3809320926666]\n",
      "训练SimpleViT使用的时间 [189.55984830856323, 237.6520528793335, 286.64898586273193, 334.5461940765381, 384.09912300109863]\n"
     ]
    }
   ],
   "source": [
    "print('训练CNN使用的时间', time_CNN)\n",
    "print('训练ViT使用的时间', time_ViT)\n",
    "print('训练ResNet使用的时间', time_ResNet)\n",
    "print('训练SimpleViT使用的时间', time_SViT)"
   ]
  }
 ],
 "metadata": {
  "kernelspec": {
   "display_name": "Python 3 (ipykernel)",
   "language": "python",
   "name": "python3"
  },
  "language_info": {
   "codemirror_mode": {
    "name": "ipython",
    "version": 3
   },
   "file_extension": ".py",
   "mimetype": "text/x-python",
   "name": "python",
   "nbconvert_exporter": "python",
   "pygments_lexer": "ipython3",
   "version": "3.11.4"
  }
 },
 "nbformat": 4,
 "nbformat_minor": 5
}
